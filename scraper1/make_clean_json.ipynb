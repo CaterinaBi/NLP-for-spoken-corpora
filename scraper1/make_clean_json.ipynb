{
 "cells": [
  {
   "cell_type": "code",
   "execution_count": null,
   "metadata": {},
   "outputs": [],
   "source": [
    "def extract_clefts_from_text(self):\n",
    "        \"\"\"A method that extracts only interrogatives from scraped texts\"\"\"\n",
    "\n",
    "        for i, dictionary in enumerate(self.dictionaries_list):\n",
    "            # interrogatives = []\n",
    "            text = dictionary['Text']\n",
    "            sentences = sent_tokenize(text) # list\n",
    "\n",
    "            for sentence in sentences:\n",
    "                if \"c'est\" in sentence:\n",
    "                    dictionary['Clefts'] = sentence\n",
    "                    self.cleft_dictionaries.append(sentence)\n",
    "                elif '?' in sentence:\n",
    "                    dictionary['Interrogatives'] = sentence\n",
    "                    self.interrogative_dictionaries.append(sentence)\n",
    "                else:\n",
    "                    continue\n",
    "\n",
    "            print(f'---All clefts and interrogatives extracted from text #{i}.\\n')"
   ]
  }
 ],
 "metadata": {
  "language_info": {
   "name": "python"
  },
  "orig_nbformat": 4
 },
 "nbformat": 4,
 "nbformat_minor": 2
}
