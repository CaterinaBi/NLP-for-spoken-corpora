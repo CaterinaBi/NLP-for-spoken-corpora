{
 "cells": [
  {
   "cell_type": "code",
   "execution_count": null,
   "metadata": {},
   "outputs": [],
   "source": [
    "def extract_clefts_from_text(self):\n",
    "        \"\"\"A method that extracts only interrogatives from scraped texts\"\"\"\n",
    "\n",
    "        for i, dictionary in enumerate(self.dictionaries_list):\n",
    "            # interrogatives = []\n",
    "            text = dictionary['Text']\n",
    "            sentences = sent_tokenize(text) # list\n",
    "\n",
    "            for sentence in sentences:\n",
    "                if \"c'est\" in sentence:\n",
    "                    dictionary['Clefts'] = sentence\n",
    "                    self.cleft_dictionaries.append(sentence)\n",
    "                elif '?' in sentence:\n",
    "                    dictionary['Interrogatives'] = sentence\n",
    "                    self.interrogative_dictionaries.append(sentence)\n",
    "                else:\n",
    "                    continue\n",
    "\n",
    "            print(f'---All clefts and interrogatives extracted from text #{i}.\\n')\n",
    "\n",
    "    def export_data_to_excel(self):\n",
    "\n",
    "        file_name = 'lecteurs_anonymes_interrogatives.xlsx'\n",
    "\n",
    "        for dictionary in self.interrogative_dictionaries:\n",
    "            del dictionary['Text']\n",
    "\n",
    "        df = pd.DataFrame.from_dict(self.interrogative_dictionaries)\n",
    "        df.to_excel(file_name)\n",
    "\n",
    "        print('---Excel file created.\\n')\n",
    "\n",
    "        file_name = 'lecteurs_anonymes_clefts.xlsx'\n",
    "\n",
    "        for dictionary in self.cleft_dictionaries:\n",
    "            del dictionary['Text']\n",
    "\n",
    "        df = pd.DataFrame.from_dict(self.cleft_dictionaries)\n",
    "        df.to_excel(file_name)\n",
    "\n",
    "        print('---Excel file created.\\n')\n",
    "\n",
    "        print('---Data collection correctly executed.')"
   ]
  }
 ],
 "metadata": {
  "language_info": {
   "name": "python"
  },
  "orig_nbformat": 4
 },
 "nbformat": 4,
 "nbformat_minor": 2
}
