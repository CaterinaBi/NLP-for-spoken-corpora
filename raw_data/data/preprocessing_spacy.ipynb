{
 "cells": [
  {
   "cell_type": "code",
   "execution_count": 11,
   "metadata": {},
   "outputs": [],
   "source": [
    "import spacy\n",
    "import json"
   ]
  },
  {
   "cell_type": "code",
   "execution_count": 12,
   "metadata": {},
   "outputs": [],
   "source": [
    "# opens json file\n",
    "\n",
    "with open('lecteurs_anonymes.json') as json_file:\n",
    "    data = json.load(json_file)\n",
    "\n",
    "# extracts sample text\n",
    "\n",
    "file_dictionary = data[0]\n",
    "# print(file_dictionary)\n",
    "\n",
    "text = file_dictionary['Text']\n",
    "# print(text)"
   ]
  },
  {
   "cell_type": "code",
   "execution_count": null,
   "metadata": {},
   "outputs": [],
   "source": [
    "# creates the French nlp object\n",
    "nlp = spacy.blank(\"fr\")\n",
    "\n",
    "# Process a text (this is Spanish for: \"How are you?\")\n",
    "doc = nlp(text)\n",
    "\n",
    "print(doc)"
   ]
  }
 ],
 "metadata": {
  "interpreter": {
   "hash": "c7b2d02c07dc615871e2bd1a1246b89714f2151eeb8e00fcd4ada13785228d85"
  },
  "kernelspec": {
   "display_name": "Python 3.9.13 ('base')",
   "language": "python",
   "name": "python3"
  },
  "language_info": {
   "codemirror_mode": {
    "name": "ipython",
    "version": 3
   },
   "file_extension": ".py",
   "mimetype": "text/x-python",
   "name": "python",
   "nbconvert_exporter": "python",
   "pygments_lexer": "ipython3",
   "version": "3.9.13"
  },
  "orig_nbformat": 4
 },
 "nbformat": 4,
 "nbformat_minor": 2
}
